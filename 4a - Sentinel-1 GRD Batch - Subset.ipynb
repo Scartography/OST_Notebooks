{
 "cells": [
  {
   "cell_type": "markdown",
   "metadata": {},
   "source": [
    "<font face=\"Calibri\" size=\"2\"> <i>Open SAR Toolkit - Tutorial 4a, version 1.1, Nobember 2019. Andreas Vollrath, ESA/ESRIN phi-lab</i>\n",
    "</font>"
   ]
  },
  {
   "cell_type": "markdown",
   "metadata": {},
   "source": [
    "![title](auxiliary/header_image.PNG)\n",
    "\n",
    "--------\n",
    "\n",
    "# OST Tutorial IV - A\n",
    "## How to do a batch processing of Sentinel-1 GRD data subset\n",
    "\n",
    "--------\n",
    "\n",
    "**Short description**\n",
    "\n",
    "This notebook shows f OST for the batch processing of GRD data using the *Sentinel1_GRDBatch* class. This is a subclass of the *Sentinel1* class, and thus inherits all the functionalities of the *Generic* and the *Sentinel1* classes presented in Tutorial II. In addition, functions for the generation of calibrated backscatter products are provided. Within the example a subset area will be produced, thus avoiding the overload of processing the full images.\n",
    "\n",
    "--------\n",
    "\n",
    "**Requirements**\n",
    "\n",
    "- a PC/Mac with at least 16GB of RAM\n",
    "- about 15GB of free disk space\n",
    "- a Copernicus Open Data Hub user account, valid for at least 7 days (https://scihub.copernicus.eu)\n",
    "--------\n",
    "\n",
    "**NOTE:** all cells that have an * after its number can be executed without changing any code. "
   ]
  },
  {
   "cell_type": "markdown",
   "metadata": {},
   "source": [
    "### 1* - Import of Libraries\n",
    "\n",
    "In this step we import some standard python libraries for OS independent path handling as well as the *Sentinel1_GRDBatch* class thta handles the full workflow from search, download and processing of multiple GRD scenes. In addition, the OST helper module *vector* is loaded to create an AOI based on Point coordinates, and the *raster* module for creating a time-series animation."
   ]
  },
  {
   "cell_type": "code",
   "execution_count": 1,
   "metadata": {},
   "outputs": [],
   "source": [
    "import os\n",
    "from os.path import join\n",
    "from pprint import pprint\n",
    "\n",
    "from ost import Sentinel1Batch as Sen1Batch\n",
    "from ost.helpers import vector, raster\n",
    "\n",
    "# Setup logging so we can see what could go wrong\n",
    "import logging\n",
    "from ost.log import set_log_level\n",
    "set_log_level(logging.DEBUG)"
   ]
  },
  {
   "cell_type": "markdown",
   "metadata": {},
   "source": [
    "### 2* - Set up the project \n",
    "\n",
    "Here you going to initialize the *Sentinel1_GRDBatch* class by determining the project folder, the AOI and the start and end date. Since you should be already familiar with the *search* and *refine* functions, we execute them within the same cell."
   ]
  },
  {
   "cell_type": "code",
   "execution_count": 2,
   "metadata": {},
   "outputs": [
    {
     "name": "stderr",
     "output_type": "stream",
     "text": [
      "2020-02-20 09:55:57,636 WARNING root Project directory already exists.No data has been deleted at this point butmake sure you really want to use this folder.\n",
      "2020-02-20 09:55:57,647 DEBUG ost.helpers.scihub If you do not have a Copernicus Scihub user account go to: https://scihub.copernicus.eu and register\n"
     ]
    },
    {
     "name": "stdin",
     "output_type": "stream",
     "text": [
      " Your Copernicus Scihub Username: suprd\n",
      " Your Copernicus Scihub Password: ·········\n"
     ]
    },
    {
     "name": "stderr",
     "output_type": "stream",
     "text": [
      "2020-02-20 09:56:04,513 DEBUG ost.s1_core.search INFO: writing inventory data to shape file: /home/jovyan/Tutorial_4a/inventory/full_inventory.shp\n",
      "2020-02-20 09:56:04,596 WARNING fiona._env Normalized/laundered field name: 'polarisationmode' to 'polarisati'\n",
      "2020-02-20 09:56:04,597 WARNING fiona._env Normalized/laundered field name: 'orbitdirection' to 'orbitdirec'\n",
      "2020-02-20 09:56:04,597 WARNING fiona._env Normalized/laundered field name: 'acquisitiondate' to 'acquisitio'\n",
      "2020-02-20 09:56:04,597 WARNING fiona._env Normalized/laundered field name: 'relativeorbitnumber' to 'relativeor'\n",
      "2020-02-20 09:56:04,598 WARNING fiona._env Normalized/laundered field name: 'orbitnumber' to 'orbitnumbe'\n",
      "2020-02-20 09:56:04,598 WARNING fiona._env Normalized/laundered field name: 'producttype' to 'producttyp'\n",
      "2020-02-20 09:56:04,598 WARNING fiona._env Normalized/laundered field name: 'slicenumber' to 'slicenumbe'\n",
      "2020-02-20 09:56:04,599 WARNING fiona._env Normalized/laundered field name: 'beginposition' to 'beginposit'\n",
      "2020-02-20 09:56:04,599 WARNING fiona._env Normalized/laundered field name: 'endposition' to 'endpositio'\n",
      "2020-02-20 09:56:04,599 WARNING fiona._env Normalized/laundered field name: 'lastrelativeorbitnumber' to 'lastrelati'\n",
      "2020-02-20 09:56:04,600 WARNING fiona._env Normalized/laundered field name: 'lastorbitnumber' to 'lastorbitn'\n",
      "2020-02-20 09:56:04,600 WARNING fiona._env Normalized/laundered field name: 'platformidentifier' to 'platformid'\n",
      "2020-02-20 09:56:04,600 WARNING fiona._env Normalized/laundered field name: 'missiondatatakeid' to 'missiondat'\n",
      "2020-02-20 09:56:04,601 WARNING fiona._env Normalized/laundered field name: 'swathidentifier' to 'swathident'\n",
      "2020-02-20 09:56:04,601 WARNING fiona._env Normalized/laundered field name: 'ingestiondate' to 'ingestiond'\n",
      "2020-02-20 09:56:04,601 WARNING fiona._env Normalized/laundered field name: 'sensoroperationalmode' to 'sensoroper'\n",
      "2020-02-20 09:56:04,737 DEBUG ost.s1_core.refine INFO: Coverage analysis for DESCENDING tracks in VV VH polarisation.\n",
      "2020-02-20 09:56:04,740 DEBUG ost.s1_core.refine INFO: 15 frames for DESCENDING tracks in VV VH polarisation.\n",
      "2020-02-20 09:56:04,752 DEBUG ost.s1_core.refine INFO: 15 frames remain after double entry removal\n",
      "2020-02-20 09:56:04,769 DEBUG ost.s1_core.refine 2\n",
      "2020-02-20 09:56:04,771 DEBUG ost.s1_core.refine INFO: excluding track 124\n",
      "2020-02-20 09:56:04,774 DEBUG ost.s1_core.refine INFO: excluding track 22\n",
      "2020-02-20 09:56:04,776 DEBUG ost.s1_core.refine INFO: 6 frames remain after non-AOI overlap\n",
      "2020-02-20 09:56:04,776 DEBUG ost.s1_core.refine INFO: All tracks fully overlap the AOI. Not removing anything\n",
      "2020-02-20 09:56:04,800 DEBUG ost.s1_core.refine INFO: 6 frames remain after removal of non-full AOI crossing\n",
      "2020-02-20 09:56:05,005 WARNING fiona._env Normalized/laundered field name: 'polarisationmode' to 'polarisati'\n",
      "2020-02-20 09:56:05,005 WARNING fiona._env Normalized/laundered field name: 'orbitdirection' to 'orbitdirec'\n",
      "2020-02-20 09:56:05,006 WARNING fiona._env Normalized/laundered field name: 'acquisitiondate' to 'acquisitio'\n",
      "2020-02-20 09:56:05,006 WARNING fiona._env Normalized/laundered field name: 'relativeorbit' to 'relativeor'\n",
      "2020-02-20 09:56:05,006 WARNING fiona._env Normalized/laundered field name: 'orbitnumber' to 'orbitnumbe'\n",
      "2020-02-20 09:56:05,007 WARNING fiona._env Normalized/laundered field name: 'product_type' to 'product_ty'\n",
      "2020-02-20 09:56:05,007 WARNING fiona._env Normalized/laundered field name: 'slicenumber' to 'slicenumbe'\n",
      "2020-02-20 09:56:05,007 WARNING fiona._env Normalized/laundered field name: 'beginposition' to 'beginposit'\n",
      "2020-02-20 09:56:05,008 WARNING fiona._env Normalized/laundered field name: 'endposition' to 'endpositio'\n",
      "2020-02-20 09:56:05,008 WARNING fiona._env Normalized/laundered field name: 'lastrelativeorbitnumber' to 'lastrelati'\n",
      "2020-02-20 09:56:05,008 WARNING fiona._env Normalized/laundered field name: 'lastorbitnumber' to 'lastorbitn'\n",
      "2020-02-20 09:56:05,009 WARNING fiona._env Normalized/laundered field name: 'platformidentifier' to 'platformid'\n",
      "2020-02-20 09:56:05,009 WARNING fiona._env Normalized/laundered field name: 'missiondatatakeid' to 'missiondat'\n",
      "2020-02-20 09:56:05,009 WARNING fiona._env Normalized/laundered field name: 'swathidentifier' to 'swathident'\n",
      "2020-02-20 09:56:05,010 WARNING fiona._env Normalized/laundered field name: 'ingestiondate' to 'ingestiond'\n",
      "2020-02-20 09:56:05,010 WARNING fiona._env Normalized/laundered field name: 'sensoroperationalmode' to 'sensoroper'\n",
      "2020-02-20 09:56:05,010 WARNING fiona._env Normalized/laundered field name: 'download_path' to 'download_p'\n",
      "2020-02-20 09:56:05,036 DEBUG ost.s1_core.refine INFO: Found 6 full coverage mosaics.\n",
      "2020-02-20 09:56:05,037 DEBUG ost.s1_core.refine INFO: Coverage analysis for ASCENDING tracks in VV VH polarisation.\n",
      "2020-02-20 09:56:05,039 DEBUG ost.s1_core.refine INFO: 11 frames for ASCENDING tracks in VV VH polarisation.\n",
      "2020-02-20 09:56:05,050 DEBUG ost.s1_core.refine INFO: 10 frames remain after double entry removal\n",
      "2020-02-20 09:56:05,067 DEBUG ost.s1_core.refine 2\n",
      "2020-02-20 09:56:05,070 DEBUG ost.s1_core.refine INFO: excluding track 73\n",
      "2020-02-20 09:56:05,072 DEBUG ost.s1_core.refine INFO: excluding track 146\n",
      "2020-02-20 09:56:05,074 DEBUG ost.s1_core.refine INFO: 5 frames remain after non-AOI overlap\n",
      "2020-02-20 09:56:05,074 DEBUG ost.s1_core.refine INFO: All tracks fully overlap the AOI. Not removing anything\n",
      "2020-02-20 09:56:05,095 DEBUG ost.s1_core.refine INFO: 5 frames remain after removal of non-full AOI crossing\n",
      "2020-02-20 09:56:05,320 WARNING fiona._env Normalized/laundered field name: 'polarisationmode' to 'polarisati'\n",
      "2020-02-20 09:56:05,320 WARNING fiona._env Normalized/laundered field name: 'orbitdirection' to 'orbitdirec'\n",
      "2020-02-20 09:56:05,321 WARNING fiona._env Normalized/laundered field name: 'acquisitiondate' to 'acquisitio'\n",
      "2020-02-20 09:56:05,321 WARNING fiona._env Normalized/laundered field name: 'relativeorbit' to 'relativeor'\n",
      "2020-02-20 09:56:05,321 WARNING fiona._env Normalized/laundered field name: 'orbitnumber' to 'orbitnumbe'\n",
      "2020-02-20 09:56:05,322 WARNING fiona._env Normalized/laundered field name: 'product_type' to 'product_ty'\n",
      "2020-02-20 09:56:05,322 WARNING fiona._env Normalized/laundered field name: 'slicenumber' to 'slicenumbe'\n",
      "2020-02-20 09:56:05,323 WARNING fiona._env Normalized/laundered field name: 'beginposition' to 'beginposit'\n",
      "2020-02-20 09:56:05,323 WARNING fiona._env Normalized/laundered field name: 'endposition' to 'endpositio'\n",
      "2020-02-20 09:56:05,323 WARNING fiona._env Normalized/laundered field name: 'lastrelativeorbitnumber' to 'lastrelati'\n",
      "2020-02-20 09:56:05,324 WARNING fiona._env Normalized/laundered field name: 'lastorbitnumber' to 'lastorbitn'\n",
      "2020-02-20 09:56:05,324 WARNING fiona._env Normalized/laundered field name: 'platformidentifier' to 'platformid'\n",
      "2020-02-20 09:56:05,324 WARNING fiona._env Normalized/laundered field name: 'missiondatatakeid' to 'missiondat'\n",
      "2020-02-20 09:56:05,324 WARNING fiona._env Normalized/laundered field name: 'swathidentifier' to 'swathident'\n",
      "2020-02-20 09:56:05,325 WARNING fiona._env Normalized/laundered field name: 'ingestiondate' to 'ingestiond'\n",
      "2020-02-20 09:56:05,325 WARNING fiona._env Normalized/laundered field name: 'sensoroperationalmode' to 'sensoroper'\n",
      "2020-02-20 09:56:05,325 WARNING fiona._env Normalized/laundered field name: 'download_path' to 'download_p'\n",
      "2020-02-20 09:56:05,350 DEBUG ost.s1_core.refine INFO: Found 5 full coverage mosaics.\n",
      "2020-02-20 09:56:05,350 DEBUG ost.project --------------------------------------------\n",
      "2020-02-20 09:56:05,351 DEBUG ost.project Summing up the info about mosaics\n",
      "2020-02-20 09:56:05,351 DEBUG ost.project --------------------------------------------\n",
      "2020-02-20 09:56:05,351 DEBUG ost.project \n",
      "2020-02-20 09:56:05,352 DEBUG ost.project 6 mosaics for mosaic key DESCENDING_VVVH\n",
      "2020-02-20 09:56:05,352 DEBUG ost.project \n",
      "2020-02-20 09:56:05,352 DEBUG ost.project 5 mosaics for mosaic key ASCENDING_VVVH\n"
     ]
    }
   ],
   "source": [
    "import os\n",
    "from os.path import join\n",
    "from pprint import pprint\n",
    "\n",
    "from ost import Sentinel1Batch as Sen1Batch\n",
    "from ost.helpers import vector, raster\n",
    "\n",
    "# Setup logging so we can see what could go wrong\n",
    "import logging\n",
    "from ost.log import set_log_level\n",
    "set_log_level(logging.DEBUG)\n",
    "\n",
    "# define a project directory\n",
    "home = os.getenv('HOME')\n",
    "# create a processing directory\n",
    "project_dir = join(home, 'Tutorial_4a')\n",
    "\n",
    "# Vienna lat lon\n",
    "lat = 48.20849\n",
    "lon= 16.37208\n",
    "\n",
    "# define aoi with a shapefile\n",
    "aoi = vector.latlon_to_wkt(lat, lon, buffer_meter=10000, envelope=True)\n",
    "\n",
    "#define the start and end date\n",
    "start = '2020-01-15'\n",
    "end = '2020-02-15'\n",
    "\n",
    "# initialize the class to s1_grd instance\n",
    "s1_grd = Sen1Batch(\n",
    "    project_dir=project_dir,\n",
    "    aoi = aoi,\n",
    "    start = start,\n",
    "    end = end,\n",
    "    product_type='GRD',\n",
    "    polarisation='VV,VH',\n",
    "    ard_type='OST',\n",
    "    processing_dir=join(project_dir, 'processing'),\n",
    "    download_dir=join(project_dir,'download')\n",
    "    \n",
    ")\n",
    "\n",
    "# trigger the search\n",
    "s1_grd.search()\n",
    "\n",
    "# optional: once you did the search the first time, you can load \n",
    "# the full inventory uncommenting the follwoing 2 lines\n",
    "# and commenting the search command\n",
    "#s1_grd.inventory_file = join(s1_grd.inventory_dir, 'full.inventory.shp')\n",
    "#s1_grd.read_inventory()\n",
    "\n",
    "# do the refinement\n",
    "s1_grd.refine()\n"
   ]
  },
  {
   "cell_type": "raw",
   "metadata": {},
   "source": [
    "### 3* - Plot refined data inventory\n",
    "\n",
    "Here you will visualize the resultant dataframes from the refined search inventory based on the product key."
   ]
  },
  {
   "cell_type": "code",
   "execution_count": 4,
   "metadata": {},
   "outputs": [
    {
     "name": "stdout",
     "output_type": "stream",
     "text": [
      "Populating the interactive namespace from numpy and matplotlib\n"
     ]
    },
    {
     "data": {
      "image/png": "[encoded data removed]",
      "text/plain": [
       "<Figure size 1368x1368 with 1 Axes>"
      ]
     },
     "metadata": {
      "needs_background": "light"
     },
     "output_type": "display_data"
    }
   ],
   "source": [
    "#---------------------------------------------------\n",
    "# for plotting purposes we use this iPython magic\n",
    "%matplotlib inline\n",
    "%pylab inline\n",
    "pylab.rcParams['figure.figsize'] = (19, 19)\n",
    "#---------------------------------------------------\n",
    "\n",
    "# search command\n",
    "key = 'DESCENDING_VVVH'\n",
    "# we plot the full Inventory on a map\n",
    "s1_grd.plot_inventory(s1_grd.refined_inventory_dict[key], transperancy=.1)"
   ]
  },
  {
   "cell_type": "markdown",
   "metadata": {},
   "source": [
    "### 4* - Download of GRD scenes\n",
    "\n",
    "As already shown in Tutorial II, you will download the scenes based on the refined inventory dataframe for the respective produckt key."
   ]
  },
  {
   "cell_type": "code",
   "execution_count": 5,
   "metadata": {},
   "outputs": [
    {
     "name": "stderr",
     "output_type": "stream",
     "text": [
      "2020-02-20 09:56:17,734 DEBUG ost.project INFO: One or more of your scenes need to be downloaded.\n",
      "2020-02-20 09:56:17,734 DEBUG ost.s1_core.s1_dl Select the server from where you want to download:\n",
      "2020-02-20 09:56:17,735 DEBUG ost.s1_core.s1_dl (1) Copernicus Apihub (ESA, rolling archive)\n",
      "2020-02-20 09:56:17,735 DEBUG ost.s1_core.s1_dl (2) Alaska Satellite Facility (NASA, full archive)\n",
      "2020-02-20 09:56:17,735 DEBUG ost.s1_core.s1_dl (3) PEPS (CNES, 1 year rolling archive)\n"
     ]
    },
    {
     "name": "stdout",
     "output_type": "stream",
     "text": [
      "26\n"
     ]
    },
    {
     "name": "stdin",
     "output_type": "stream",
     "text": [
      "Type 1, 2 or 3:  2\n"
     ]
    },
    {
     "name": "stderr",
     "output_type": "stream",
     "text": [
      "2020-02-20 09:56:18,638 DEBUG ost.s1_core.s1_dl Please provide username for the selected server\n"
     ]
    },
    {
     "name": "stdin",
     "output_type": "stream",
     "text": [
      "Username: suprd\n"
     ]
    },
    {
     "name": "stderr",
     "output_type": "stream",
     "text": [
      "2020-02-20 09:56:19,976 DEBUG ost.s1_core.s1_dl Please provide password for the selected server\n"
     ]
    },
    {
     "name": "stdin",
     "output_type": "stream",
     "text": [
      "Password: ·········\n"
     ]
    },
    {
     "name": "stderr",
     "output_type": "stream",
     "text": [
      "2020-02-20 09:56:36,979 DEBUG ost.helpers.asf INFO: Downloading scene to: /home/jovyan/Tutorial_4a/download/SAR/GRD/2020/01/29/S1A_IW_GRDH_1SDV_20200129T165058_20200129T165123_031018_03901B_2431.zip\n",
      "2020-02-20 09:56:40,487 DEBUG ost.helpers.asf Product S1A_IW_GRDH_1SDV_20200129T165058_20200129T165123_031018_03901B_2431.zip missing from the archive, continuing.\n",
      "2020-02-20 09:56:40,618 DEBUG ost.helpers.asf Some products are missing from the archive: ['S1A_IW_GRDH_1SDV_20200129T165058_20200129T165123_031018_03901B_2431.zip']\n"
     ]
    },
    {
     "name": "stdout",
     "output_type": "stream",
     "text": [
      "25\n"
     ]
    }
   ],
   "source": [
    "print(len(s1_grd.inventory))\n",
    "s1_grd.download()\n",
    "print(len(s1_grd.inventory))"
   ]
  },
  {
   "cell_type": "markdown",
   "metadata": {},
   "source": [
    "### 5* - Set ARD parameters\n",
    "\n",
    "Similar to the *Sentinel1-Scene* class (Tutorial I and III), the *Sentinel1-GRDBatch* class handles the defintion of ARD types in a hierarchical dictionary structure. You can use the same types and steps to customize as for the *Sentinel1-Scene* class."
   ]
  },
  {
   "cell_type": "code",
   "execution_count": 6,
   "metadata": {},
   "outputs": [
    {
     "name": "stdout",
     "output_type": "stream",
     "text": [
      "{'type': 'OST', 'resolution': 20, 'border_noise': True, 'product_type': 'GTCgamma', 'speckle_filter': False, 'ls_mask_create': False, 'to_db': False, 'polarisation': 'VV,VH,HH,HV', 'dem': 'SRTM 1Sec HGT', 'resampling': 'CUBIC_CONVOLUTION', 'mt_speckle_filter': True, 'to_db_mt': True, 'dtype_output': 'float32', 'apply_ls_mask': False, 'create_ls_mask': False, 'metrics': ['avg', 'max', 'min', 'std', 'cov', 'count'], 'remove_outliers': True}\n"
     ]
    }
   ],
   "source": [
    "# single scene ARD parameters\n",
    "s1_grd.set_ard_parameters('OST')\n",
    "s1_grd.ard_parameters['resolution'] = 20\n",
    "# s1_grd.ard_parameters['single ARD']['product type'] = 'GTCgamma'\n",
    "# s1_grd.ard_parameters['single ARD']['create ls mask'] = False\n",
    "\n",
    "# time-series ARD\n",
    "# s1_grd.ard_parameters['time-series ARD']['remove mt speckle'] = False\n",
    "\n",
    "# in case we want to use an external dem\n",
    "#s1_grd.set_external_dem('path/to/externaldem')\n",
    "\n",
    "print(s1_grd.ard_parameters)"
   ]
  },
  {
   "cell_type": "markdown",
   "metadata": {},
   "source": [
    "### 6* - Run the batch routine\n",
    "\n",
    "To process all the data, including time-series and timescans is as easy as one command. All the complexity is handled behind, and you just have to wait, since processing can take quite a while.\n",
    "\n",
    "**Note** that as a last argument we submit the AOI (given as WKT) for subsetting."
   ]
  },
  {
   "cell_type": "code",
   "execution_count": 7,
   "metadata": {},
   "outputs": [
    {
     "name": "stderr",
     "output_type": "stream",
     "text": [
      "2020-02-20 09:56:46,678 DEBUG ost.project INFO: Starting OST ARD processing for GRD\n",
      "2020-02-20 09:56:46,721 DEBUG ost.s1_core.batch Acquisition from 20200215 of track 124already processed\n",
      "2020-02-20 09:56:46,733 DEBUG ost.s1_core.batch Acquisition from 20200209 of track 124already processed\n",
      "2020-02-20 09:56:46,744 DEBUG ost.s1_core.batch Acquisition from 20200203 of track 124already processed\n",
      "2020-02-20 09:56:46,762 DEBUG ost.s1_core.batch Acquisition from 20200128 of track 124already processed\n",
      "2020-02-20 09:56:46,773 DEBUG ost.s1_core.batch Acquisition from 20200122 of track 124already processed\n",
      "2020-02-20 09:56:46,787 DEBUG ost.s1_core.batch Acquisition from 20200116 of track 124already processed\n",
      "2020-02-20 09:56:46,802 DEBUG ost.s1_core.batch Acquisition from 20200214 of track 22already processed\n",
      "2020-02-20 09:56:46,815 DEBUG ost.s1_core.batch Acquisition from 20200208 of track 22already processed\n",
      "2020-02-20 09:56:46,825 DEBUG ost.s1_core.batch Acquisition from 20200202 of track 22already processed\n",
      "2020-02-20 09:56:46,837 DEBUG ost.s1_core.batch Acquisition from 20200127 of track 22already processed\n",
      "2020-02-20 09:56:46,850 DEBUG ost.s1_core.batch Acquisition from 20200121 of track 22already processed\n",
      "2020-02-20 09:56:46,863 DEBUG ost.s1_core.batch Acquisition from 20200115 of track 22already processed\n",
      "2020-02-20 09:56:46,877 DEBUG ost.s1_core.batch Acquisition from 20200211 of track 73already processed\n",
      "2020-02-20 09:56:46,889 DEBUG ost.s1_core.batch Acquisition from 20200205 of track 73already processed\n",
      "2020-02-20 09:56:46,902 DEBUG ost.s1_core.batch Acquisition from 20200130 of track 73already processed\n",
      "2020-02-20 09:56:46,915 DEBUG ost.s1_core.batch Acquisition from 20200124 of track 73already processed\n",
      "2020-02-20 09:56:46,927 DEBUG ost.s1_core.batch Acquisition from 20200118 of track 73already processed\n",
      "2020-02-20 09:56:46,943 DEBUG ost.s1_core.batch Acquisition from 20200210 of track 146already processed\n",
      "2020-02-20 09:56:46,955 DEBUG ost.s1_core.batch Acquisition from 20200129 of track 146already processed\n",
      "2020-02-20 09:56:46,966 DEBUG ost.s1_core.batch Acquisition from 20200204 of track 146already processed\n",
      "2020-02-20 09:56:46,977 DEBUG ost.s1_core.batch Acquisition from 20200123 of track 146already processed\n",
      "2020-02-20 09:56:46,988 DEBUG ost.s1_core.batch Acquisition from 20200117 of track 146already processed\n",
      "2020-02-20 09:56:46,988 DEBUG ost.project INFO:OST ARD processing for GRD DONE!\n",
      "2020-02-20 09:56:47,116 DEBUG ost.s1_core.batch INFO: Creating common extent mask for track 124\n",
      "2020-02-20 09:56:52,887 DEBUG ost.helpers.utils INFO: Time elapsed: 0:00:04.737416\n",
      "2020-02-20 09:56:53,185 DEBUG ost.s1_core.batch INFO: Creating common extent mask for track 22\n",
      "2020-02-20 09:56:58,779 DEBUG ost.helpers.utils INFO: Time elapsed: 0:00:05.154851\n",
      "2020-02-20 09:56:58,858 DEBUG ost.s1_core.batch INFO: Creating common extent mask for track 73\n",
      "2020-02-20 09:57:03,051 DEBUG ost.helpers.utils INFO: Time elapsed: 0:00:03.815552\n",
      "2020-02-20 09:57:03,122 DEBUG ost.s1_core.batch INFO: Creating common extent mask for track 146\n",
      "2020-02-20 09:57:07,207 DEBUG ost.helpers.utils INFO: Time elapsed: 0:00:03.649385\n",
      "2020-02-20 09:57:07,232 DEBUG ost.multitemporal.ard_to_ts INFO: Timeseries of 124 for TC in VV polarisation already processed\n",
      "2020-02-20 09:57:07,241 DEBUG ost.multitemporal.ard_to_ts INFO: Timeseries of 124 for TC in VH polarisation already processed\n",
      "2020-02-20 09:57:07,272 DEBUG ost.multitemporal.ard_to_ts INFO: Timeseries of 22 for TC in VV polarisation already processed\n",
      "2020-02-20 09:57:07,282 DEBUG ost.multitemporal.ard_to_ts INFO: Timeseries of 22 for TC in VH polarisation already processed\n",
      "2020-02-20 09:57:07,312 DEBUG ost.multitemporal.ard_to_ts INFO: Timeseries of 73 for TC in VV polarisation already processed\n",
      "2020-02-20 09:57:07,323 DEBUG ost.multitemporal.ard_to_ts INFO: Timeseries of 73 for TC in VH polarisation already processed\n",
      "2020-02-20 09:57:07,349 DEBUG ost.multitemporal.ard_to_ts INFO: Timeseries of 146 for TC in VV polarisation already processed\n",
      "2020-02-20 09:57:07,358 DEBUG ost.multitemporal.ard_to_ts INFO: Timeseries of 146 for TC in VH polarisation already processed\n",
      "2020-02-20 09:57:07,373 DEBUG ost.s1_core.batch INFO: Creating common extent mask for track 124\n",
      "2020-02-20 09:57:10,817 DEBUG ost.helpers.utils INFO: Time elapsed: 0:00:03.117599\n",
      "2020-02-20 09:57:10,838 DEBUG ost.s1_core.batch INFO: Creating common extent mask for track 22\n",
      "2020-02-20 09:57:14,563 DEBUG ost.helpers.utils INFO: Time elapsed: 0:00:03.448224\n",
      "2020-02-20 09:57:14,583 DEBUG ost.s1_core.batch INFO: Creating common extent mask for track 73\n",
      "2020-02-20 09:57:17,808 DEBUG ost.helpers.utils INFO: Time elapsed: 0:00:02.926412\n",
      "2020-02-20 09:57:17,829 DEBUG ost.s1_core.batch INFO: Creating common extent mask for track 146\n",
      "2020-02-20 09:57:20,810 DEBUG ost.helpers.utils INFO: Time elapsed: 0:00:02.742105\n",
      "2020-02-20 09:57:20,830 DEBUG ost.multitemporal.ard_to_ts INFO: Timeseries of 124 for TC in VV polarisation already processed\n",
      "2020-02-20 09:57:20,839 DEBUG ost.multitemporal.ard_to_ts INFO: Timeseries of 124 for TC in VH polarisation already processed\n",
      "2020-02-20 09:57:20,865 DEBUG ost.multitemporal.ard_to_ts INFO: Timeseries of 22 for TC in VV polarisation already processed\n",
      "2020-02-20 09:57:20,873 DEBUG ost.multitemporal.ard_to_ts INFO: Timeseries of 22 for TC in VH polarisation already processed\n",
      "2020-02-20 09:57:20,896 DEBUG ost.multitemporal.ard_to_ts INFO: Timeseries of 73 for TC in VV polarisation already processed\n",
      "2020-02-20 09:57:20,904 DEBUG ost.multitemporal.ard_to_ts INFO: Timeseries of 73 for TC in VH polarisation already processed\n",
      "2020-02-20 09:57:20,927 DEBUG ost.multitemporal.ard_to_ts INFO: Timeseries of 146 for TC in VV polarisation already processed\n",
      "2020-02-20 09:57:20,934 DEBUG ost.multitemporal.ard_to_ts INFO: Timeseries of 146 for TC in VH polarisation already processed\n",
      "2020-02-20 09:57:21,007 DEBUG ost.s1_core.batch INFO: Creating common extent mask for track 124\n",
      "2020-02-20 09:57:24,393 DEBUG ost.helpers.utils INFO: Time elapsed: 0:00:03.110983\n",
      "2020-02-20 09:57:24,415 DEBUG ost.s1_core.batch INFO: Creating common extent mask for track 22\n",
      "2020-02-20 09:57:28,146 DEBUG ost.helpers.utils INFO: Time elapsed: 0:00:03.446284\n",
      "2020-02-20 09:57:28,167 DEBUG ost.s1_core.batch INFO: Creating common extent mask for track 73\n",
      "2020-02-20 09:57:31,303 DEBUG ost.helpers.utils INFO: Time elapsed: 0:00:02.904149\n",
      "2020-02-20 09:57:31,319 DEBUG ost.s1_core.batch INFO: Creating common extent mask for track 146\n",
      "2020-02-20 09:57:34,294 DEBUG ost.helpers.utils INFO: Time elapsed: 0:00:02.750313\n",
      "2020-02-20 09:57:34,318 DEBUG ost.multitemporal.ard_to_ts INFO: Timeseries of 124 for TC in VV polarisation already processed\n",
      "2020-02-20 09:57:34,327 DEBUG ost.multitemporal.ard_to_ts INFO: Timeseries of 124 for TC in VH polarisation already processed\n",
      "2020-02-20 09:57:34,357 DEBUG ost.multitemporal.ard_to_ts INFO: Timeseries of 22 for TC in VV polarisation already processed\n",
      "2020-02-20 09:57:34,367 DEBUG ost.multitemporal.ard_to_ts INFO: Timeseries of 22 for TC in VH polarisation already processed\n",
      "2020-02-20 09:57:34,394 DEBUG ost.multitemporal.ard_to_ts INFO: Timeseries of 73 for TC in VV polarisation already processed\n",
      "2020-02-20 09:57:34,402 DEBUG ost.multitemporal.ard_to_ts INFO: Timeseries of 73 for TC in VH polarisation already processed\n",
      "2020-02-20 09:57:34,426 DEBUG ost.multitemporal.ard_to_ts INFO: Timeseries of 146 for TC in VV polarisation already processed\n",
      "2020-02-20 09:57:34,434 DEBUG ost.multitemporal.ard_to_ts INFO: Timeseries of 146 for TC in VH polarisation already processed\n",
      "2020-02-20 09:57:34,448 DEBUG ost.s1_core.batch INFO: Creating common extent mask for track 124\n",
      "2020-02-20 09:57:37,868 DEBUG ost.helpers.utils INFO: Time elapsed: 0:00:03.137409\n",
      "2020-02-20 09:57:37,890 DEBUG ost.s1_core.batch INFO: Creating common extent mask for track 22\n",
      "2020-02-20 09:57:41,620 DEBUG ost.helpers.utils INFO: Time elapsed: 0:00:03.456212\n",
      "2020-02-20 09:57:41,638 DEBUG ost.s1_core.batch INFO: Creating common extent mask for track 73\n",
      "2020-02-20 09:57:44,760 DEBUG ost.helpers.utils INFO: Time elapsed: 0:00:02.908557\n",
      "2020-02-20 09:57:44,780 DEBUG ost.s1_core.batch INFO: Creating common extent mask for track 146\n",
      "2020-02-20 09:57:47,868 DEBUG ost.helpers.utils INFO: Time elapsed: 0:00:02.853039\n",
      "2020-02-20 09:57:47,890 DEBUG ost.multitemporal.ard_to_ts INFO: Timeseries of 124 for TC in VV polarisation already processed\n",
      "2020-02-20 09:57:47,898 DEBUG ost.multitemporal.ard_to_ts INFO: Timeseries of 124 for TC in VH polarisation already processed\n",
      "2020-02-20 09:57:47,926 DEBUG ost.multitemporal.ard_to_ts INFO: Timeseries of 22 for TC in VV polarisation already processed\n",
      "2020-02-20 09:57:47,935 DEBUG ost.multitemporal.ard_to_ts INFO: Timeseries of 22 for TC in VH polarisation already processed\n",
      "2020-02-20 09:57:47,960 DEBUG ost.multitemporal.ard_to_ts INFO: Timeseries of 73 for TC in VV polarisation already processed\n",
      "2020-02-20 09:57:47,968 DEBUG ost.multitemporal.ard_to_ts INFO: Timeseries of 73 for TC in VH polarisation already processed\n",
      "2020-02-20 09:57:47,991 DEBUG ost.multitemporal.ard_to_ts INFO: Timeseries of 146 for TC in VV polarisation already processed\n",
      "2020-02-20 09:57:47,998 DEBUG ost.multitemporal.ard_to_ts INFO: Timeseries of 146 for TC in VH polarisation already processed\n",
      "2020-02-20 09:57:48,013 DEBUG ost.s1_core.batch INFO: Creating common extent mask for track 124\n",
      "2020-02-20 09:57:51,363 DEBUG ost.helpers.utils INFO: Time elapsed: 0:00:03.093337\n",
      "2020-02-20 09:57:51,384 DEBUG ost.s1_core.batch INFO: Creating common extent mask for track 22\n",
      "2020-02-20 09:57:55,061 DEBUG ost.helpers.utils INFO: Time elapsed: 0:00:03.420466\n",
      "2020-02-20 09:57:55,079 DEBUG ost.s1_core.batch INFO: Creating common extent mask for track 73\n",
      "2020-02-20 09:57:58,193 DEBUG ost.helpers.utils INFO: Time elapsed: 0:00:02.899904\n",
      "2020-02-20 09:57:58,209 DEBUG ost.s1_core.batch INFO: Creating common extent mask for track 146\n",
      "2020-02-20 09:58:01,147 DEBUG ost.helpers.utils INFO: Time elapsed: 0:00:02.718072\n",
      "2020-02-20 09:58:01,167 DEBUG ost.multitemporal.ard_to_ts INFO: Timeseries of 124 for TC in VV polarisation already processed\n",
      "2020-02-20 09:58:01,174 DEBUG ost.multitemporal.ard_to_ts INFO: Timeseries of 124 for TC in VH polarisation already processed\n",
      "2020-02-20 09:58:01,201 DEBUG ost.multitemporal.ard_to_ts INFO: Timeseries of 22 for TC in VV polarisation already processed\n",
      "2020-02-20 09:58:01,208 DEBUG ost.multitemporal.ard_to_ts INFO: Timeseries of 22 for TC in VH polarisation already processed\n",
      "2020-02-20 09:58:01,230 DEBUG ost.multitemporal.ard_to_ts INFO: Timeseries of 73 for TC in VV polarisation already processed\n",
      "2020-02-20 09:58:01,236 DEBUG ost.multitemporal.ard_to_ts INFO: Timeseries of 73 for TC in VH polarisation already processed\n",
      "2020-02-20 09:58:01,258 DEBUG ost.multitemporal.ard_to_ts INFO: Timeseries of 146 for TC in VV polarisation already processed\n",
      "2020-02-20 09:58:01,263 DEBUG ost.multitemporal.ard_to_ts INFO: Timeseries of 146 for TC in VH polarisation already processed\n",
      "2020-02-20 09:58:01,291 DEBUG ost.s1_core.batch INFO: Entering track 124.\n",
      "2020-02-20 09:58:01,302 DEBUG ost.s1_core.batch INFO: Processing Timescans of VV for track 124.\n",
      "2020-02-20 09:58:12,321 DEBUG ost.s1_core.batch INFO: Processing Timescans of VH for track 124.\n",
      "2020-02-20 09:58:23,307 DEBUG ost.s1_core.batch The HH polarisation is not availible in track 124\n",
      "2020-02-20 09:58:23,310 DEBUG ost.s1_core.batch The HV polarisation is not availible in track 124\n",
      "2020-02-20 09:58:23,310 DEBUG ost.s1_core.batch INFO: Entering track 22.\n",
      "2020-02-20 09:58:23,321 DEBUG ost.s1_core.batch INFO: Processing Timescans of VV for track 22.\n",
      "2020-02-20 09:58:34,195 DEBUG ost.s1_core.batch INFO: Processing Timescans of VH for track 22.\n",
      "2020-02-20 09:58:45,016 DEBUG ost.s1_core.batch The HH polarisation is not availible in track 22\n",
      "2020-02-20 09:58:45,019 DEBUG ost.s1_core.batch The HV polarisation is not availible in track 22\n",
      "2020-02-20 09:58:45,019 DEBUG ost.s1_core.batch INFO: Entering track 73.\n",
      "2020-02-20 09:58:45,031 DEBUG ost.s1_core.batch INFO: Processing Timescans of VV for track 73.\n",
      "2020-02-20 09:58:55,771 DEBUG ost.s1_core.batch INFO: Processing Timescans of VH for track 73.\n",
      "2020-02-20 09:59:06,350 DEBUG ost.s1_core.batch The HH polarisation is not availible in track 73\n",
      "2020-02-20 09:59:06,353 DEBUG ost.s1_core.batch The HV polarisation is not availible in track 73\n",
      "2020-02-20 09:59:06,353 DEBUG ost.s1_core.batch INFO: Entering track 146.\n",
      "2020-02-20 09:59:06,365 DEBUG ost.s1_core.batch INFO: Processing Timescans of VV for track 146.\n",
      "2020-02-20 09:59:16,821 DEBUG ost.s1_core.batch INFO: Processing Timescans of VH for track 146.\n",
      "2020-02-20 09:59:27,156 DEBUG ost.s1_core.batch The HH polarisation is not availible in track 146\n",
      "2020-02-20 09:59:27,159 DEBUG ost.s1_core.batch The HV polarisation is not availible in track 146\n",
      "2020-02-20 09:59:27,170 DEBUG ost.s1_core.batch INFO: Entering track 124.\n",
      "2020-02-20 09:59:27,175 DEBUG ost.s1_core.batch INFO: Processing Timescans of VV for track 124.\n",
      "2020-02-20 09:59:37,988 DEBUG ost.s1_core.batch INFO: Processing Timescans of VH for track 124.\n",
      "2020-02-20 09:59:48,476 DEBUG ost.s1_core.batch The HH polarisation is not availible in track 124\n",
      "2020-02-20 09:59:48,478 DEBUG ost.s1_core.batch The HV polarisation is not availible in track 124\n",
      "2020-02-20 09:59:48,478 DEBUG ost.s1_core.batch INFO: Entering track 22.\n",
      "2020-02-20 09:59:48,484 DEBUG ost.s1_core.batch INFO: Processing Timescans of VV for track 22.\n",
      "2020-02-20 09:59:59,527 DEBUG ost.s1_core.batch INFO: Processing Timescans of VH for track 22.\n",
      "2020-02-20 10:00:10,170 DEBUG ost.s1_core.batch The HH polarisation is not availible in track 22\n",
      "2020-02-20 10:00:10,172 DEBUG ost.s1_core.batch The HV polarisation is not availible in track 22\n",
      "2020-02-20 10:00:10,172 DEBUG ost.s1_core.batch INFO: Entering track 73.\n",
      "2020-02-20 10:00:10,179 DEBUG ost.s1_core.batch INFO: Processing Timescans of VV for track 73.\n",
      "2020-02-20 10:00:20,835 DEBUG ost.s1_core.batch INFO: Processing Timescans of VH for track 73.\n",
      "2020-02-20 10:00:32,635 DEBUG ost.s1_core.batch The HH polarisation is not availible in track 73\n",
      "2020-02-20 10:00:32,637 DEBUG ost.s1_core.batch The HV polarisation is not availible in track 73\n",
      "2020-02-20 10:00:32,637 DEBUG ost.s1_core.batch INFO: Entering track 146.\n",
      "2020-02-20 10:00:32,645 DEBUG ost.s1_core.batch INFO: Processing Timescans of VV for track 146.\n",
      "2020-02-20 10:00:42,731 DEBUG ost.s1_core.batch INFO: Processing Timescans of VH for track 146.\n",
      "2020-02-20 10:01:05,766 DEBUG ost.s1_core.batch The HH polarisation is not availible in track 146\n",
      "2020-02-20 10:01:05,897 DEBUG ost.s1_core.batch The HV polarisation is not availible in track 146\n",
      "2020-02-20 10:01:07,115 DEBUG ost.s1_core.batch INFO: Entering track 124.\n",
      "2020-02-20 10:01:07,627 DEBUG ost.s1_core.batch INFO: Processing Timescans of VV for track 124.\n",
      "2020-02-20 10:01:29,588 DEBUG ost.s1_core.batch INFO: Processing Timescans of VH for track 124.\n",
      "2020-02-20 10:01:40,690 DEBUG ost.s1_core.batch The HH polarisation is not availible in track 124\n",
      "2020-02-20 10:01:40,692 DEBUG ost.s1_core.batch The HV polarisation is not availible in track 124\n",
      "2020-02-20 10:01:40,692 DEBUG ost.s1_core.batch INFO: Entering track 22.\n",
      "2020-02-20 10:01:40,698 DEBUG ost.s1_core.batch INFO: Processing Timescans of VV for track 22.\n",
      "2020-02-20 10:01:56,000 DEBUG ost.s1_core.batch INFO: Processing Timescans of VH for track 22.\n",
      "2020-02-20 10:02:06,755 DEBUG ost.s1_core.batch The HH polarisation is not availible in track 22\n",
      "2020-02-20 10:02:06,756 DEBUG ost.s1_core.batch The HV polarisation is not availible in track 22\n",
      "2020-02-20 10:02:06,756 DEBUG ost.s1_core.batch INFO: Entering track 73.\n",
      "2020-02-20 10:02:06,763 DEBUG ost.s1_core.batch INFO: Processing Timescans of VV for track 73.\n",
      "2020-02-20 10:02:32,641 DEBUG ost.s1_core.batch INFO: Processing Timescans of VH for track 73.\n",
      "2020-02-20 10:02:52,159 DEBUG ost.s1_core.batch The HH polarisation is not availible in track 73\n",
      "2020-02-20 10:02:52,352 DEBUG ost.s1_core.batch The HV polarisation is not availible in track 73\n",
      "2020-02-20 10:02:52,353 DEBUG ost.s1_core.batch INFO: Entering track 146.\n",
      "2020-02-20 10:02:53,029 DEBUG ost.s1_core.batch INFO: Processing Timescans of VV for track 146.\n",
      "2020-02-20 10:03:11,717 DEBUG ost.s1_core.batch INFO: Processing Timescans of VH for track 146.\n",
      "2020-02-20 10:03:35,049 DEBUG ost.s1_core.batch The HH polarisation is not availible in track 146\n",
      "2020-02-20 10:03:35,090 DEBUG ost.s1_core.batch The HV polarisation is not availible in track 146\n",
      "2020-02-20 10:03:35,373 DEBUG ost.s1_core.batch INFO: Entering track 124.\n",
      "2020-02-20 10:03:35,377 DEBUG ost.s1_core.batch INFO: Processing Timescans of VV for track 124.\n",
      "2020-02-20 10:03:46,505 DEBUG ost.s1_core.batch INFO: Processing Timescans of VH for track 124.\n",
      "2020-02-20 10:04:02,481 DEBUG ost.s1_core.batch The HH polarisation is not availible in track 124\n",
      "2020-02-20 10:04:02,483 DEBUG ost.s1_core.batch The HV polarisation is not availible in track 124\n",
      "2020-02-20 10:04:02,483 DEBUG ost.s1_core.batch INFO: Entering track 22.\n",
      "2020-02-20 10:04:02,488 DEBUG ost.s1_core.batch INFO: Processing Timescans of VV for track 22.\n",
      "2020-02-20 10:04:16,055 DEBUG ost.s1_core.batch INFO: Processing Timescans of VH for track 22.\n",
      "2020-02-20 10:04:33,615 DEBUG ost.s1_core.batch The HH polarisation is not availible in track 22\n",
      "2020-02-20 10:04:33,616 DEBUG ost.s1_core.batch The HV polarisation is not availible in track 22\n",
      "2020-02-20 10:04:33,616 DEBUG ost.s1_core.batch INFO: Entering track 73.\n",
      "2020-02-20 10:04:33,621 DEBUG ost.s1_core.batch INFO: Processing Timescans of VV for track 73.\n",
      "2020-02-20 10:04:48,795 DEBUG ost.s1_core.batch INFO: Processing Timescans of VH for track 73.\n",
      "2020-02-20 10:04:59,741 DEBUG ost.s1_core.batch The HH polarisation is not availible in track 73\n",
      "2020-02-20 10:04:59,742 DEBUG ost.s1_core.batch The HV polarisation is not availible in track 73\n",
      "2020-02-20 10:04:59,743 DEBUG ost.s1_core.batch INFO: Entering track 146.\n",
      "2020-02-20 10:04:59,750 DEBUG ost.s1_core.batch INFO: Processing Timescans of VV for track 146.\n",
      "2020-02-20 10:05:18,130 DEBUG ost.s1_core.batch INFO: Processing Timescans of VH for track 146.\n",
      "2020-02-20 10:05:30,903 DEBUG ost.s1_core.batch The HH polarisation is not availible in track 146\n",
      "2020-02-20 10:05:30,904 DEBUG ost.s1_core.batch The HV polarisation is not availible in track 146\n",
      "2020-02-20 10:05:30,912 DEBUG ost.s1_core.batch INFO: Entering track 124.\n",
      "2020-02-20 10:05:30,917 DEBUG ost.s1_core.batch INFO: Processing Timescans of VV for track 124.\n",
      "2020-02-20 10:05:42,193 DEBUG ost.s1_core.batch INFO: Processing Timescans of VH for track 124.\n",
      "2020-02-20 10:05:56,605 DEBUG ost.s1_core.batch The HH polarisation is not availible in track 124\n",
      "2020-02-20 10:05:56,606 DEBUG ost.s1_core.batch The HV polarisation is not availible in track 124\n",
      "2020-02-20 10:05:56,607 DEBUG ost.s1_core.batch INFO: Entering track 22.\n",
      "2020-02-20 10:05:56,612 DEBUG ost.s1_core.batch INFO: Processing Timescans of VV for track 22.\n",
      "2020-02-20 10:06:07,997 DEBUG ost.s1_core.batch INFO: Processing Timescans of VH for track 22.\n",
      "2020-02-20 10:06:20,714 DEBUG ost.s1_core.batch The HH polarisation is not availible in track 22\n",
      "2020-02-20 10:06:20,715 DEBUG ost.s1_core.batch The HV polarisation is not availible in track 22\n",
      "2020-02-20 10:06:20,716 DEBUG ost.s1_core.batch INFO: Entering track 73.\n",
      "2020-02-20 10:06:20,722 DEBUG ost.s1_core.batch INFO: Processing Timescans of VV for track 73.\n",
      "2020-02-20 10:06:31,156 DEBUG ost.s1_core.batch INFO: Processing Timescans of VH for track 73.\n",
      "2020-02-20 10:06:41,668 DEBUG ost.s1_core.batch The HH polarisation is not availible in track 73\n",
      "2020-02-20 10:06:41,669 DEBUG ost.s1_core.batch The HV polarisation is not availible in track 73\n",
      "2020-02-20 10:06:41,670 DEBUG ost.s1_core.batch INFO: Entering track 146.\n",
      "2020-02-20 10:06:41,677 DEBUG ost.s1_core.batch INFO: Processing Timescans of VV for track 146.\n",
      "2020-02-20 10:06:52,234 DEBUG ost.s1_core.batch INFO: Processing Timescans of VH for track 146.\n",
      "2020-02-20 10:07:04,553 DEBUG ost.s1_core.batch The HH polarisation is not availible in track 146\n",
      "2020-02-20 10:07:04,554 DEBUG ost.s1_core.batch The HV polarisation is not availible in track 146\n"
     ]
    }
   ],
   "source": [
    "# RAW SNAP ARD processing\n",
    "s1_grd.to_ard(    \n",
    "    overwrite=False, \n",
    "    subset=s1_grd.aoi\n",
    ")\n",
    "\n",
    "# Create Multitemporal outputs\n",
    "s1_grd.create_timeseries()\n",
    "s1_grd.create_timescan()\n",
    "\n"
   ]
  },
  {
   "cell_type": "markdown",
   "metadata": {},
   "source": [
    "### 7* - Create a time-series animation\n",
    "\n",
    "For interactive presentations it is nice to have animated \"movies\". The following command allows you to create animated time-series of oyur processed data."
   ]
  },
  {
   "cell_type": "code",
   "execution_count": 10,
   "metadata": {},
   "outputs": [],
   "source": [
    "# create the animation\n",
    "s1_grd.create_timeseries_animations(\n",
    "    shrink_factor=5,\n",
    "    duration=1,\n",
    "    add_dates=False,\n",
    ")"
   ]
  },
  {
   "cell_type": "code",
   "execution_count": null,
   "metadata": {},
   "outputs": [],
   "source": []
  }
 ],
 "metadata": {
  "kernelspec": {
   "display_name": "Python 3",
   "language": "python",
   "name": "python3"
  },
  "language_info": {
   "codemirror_mode": {
    "name": "ipython",
    "version": 3
   },
   "file_extension": ".py",
   "mimetype": "text/x-python",
   "name": "python",
   "nbconvert_exporter": "python",
   "pygments_lexer": "ipython3",
   "version": "3.7.3"
  }
 },
 "nbformat": 4,
 "nbformat_minor": 4
}
