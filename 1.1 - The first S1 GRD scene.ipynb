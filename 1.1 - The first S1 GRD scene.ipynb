{
 "cells": [
  {
   "cell_type": "markdown",
   "metadata": {},
   "source": [
    "<font face=\"Calibri\" size=\"2\"> <i>Open SAR Toolkit - Tutorial 1, version 1.1,  November 2019. Andreas Vollrath, ESA/ESRIN phi-lab</i>\n",
    "</font>"
   ]
  },
  {
   "cell_type": "markdown",
   "metadata": {},
   "source": [
    "![title](auxiliary/header_image.PNG)\n",
    "\n",
    "--------\n",
    "\n",
    "# OST Tutorial I \n",
    "## Pre-processing your first Sentinel-1 GRD imagery with OST\n",
    "\n",
    "--------\n",
    "\n",
    "**Short description**\n",
    "\n",
    "This notebook introduces you to the `Sentinel_1Scene` class of the Open SAR Toolkit and demonstrates how it can be used to download, extract metadata and pre-process a single Sentinel-1 scene.\n",
    "\n",
    "--------\n",
    "\n",
    "**Requirements**\n",
    "\n",
    "- a PC/Mac with at least 16GB of RAM\n",
    "- about 4 GB of free disk space\n",
    "- a NASA Earthdata account with signed EULA for use of https://search.asf.alaska.edu (just register directly there)\n",
    "--------\n",
    "\n",
    "**NOTE:** all cells that have an * after its number can be executed without changing any code. "
   ]
  },
  {
   "cell_type": "markdown",
   "metadata": {},
   "source": [
    "### 1\\* - Import the OST *Sentinel1_Scene* class"
   ]
  },
  {
   "cell_type": "code",
   "execution_count": 1,
   "metadata": {},
   "outputs": [
    {
     "name": "stdout",
     "output_type": "stream",
     "text": [
      "/home/suprd/SNAP_Toolbox/snap/bin/gpt\n"
     ]
    }
   ],
   "source": [
    "# these imports we need to handle the folders, independent of the OS\n",
    "import os\n",
    "from os.path import join\n",
    "\n",
    "# this is the s1Scene class, that basically handles all the workflow from beginning to the end\n",
    "from ost import Sentinel1Scene\n",
    "\n",
    "# Check if you have SNAP GPT, kinda important\n",
    "from ost.helpers.helpers import gpt_path\n",
    "print(gpt_path())"
   ]
  },
  {
   "cell_type": "markdown",
   "metadata": {},
   "source": [
    "### 2* - Create a folder for our outputs\n",
    "\n",
    "By executing this cell, a new folder will be created and the path will be written to the *processing_dir* variable"
   ]
  },
  {
   "cell_type": "code",
   "execution_count": 2,
   "metadata": {},
   "outputs": [],
   "source": [
    "# get home folder\n",
    "home = os.getenv('HOME')\n",
    "# create a processing directory\n",
    "output_dir = join(home, 'OpenSarToolkit', 'Tutorial_1')\n",
    "os.makedirs(output_dir, exist_ok=True)"
   ]
  },
  {
   "cell_type": "markdown",
   "metadata": {},
   "source": [
    "### 3* - Choose scene ID and display some metadata\n",
    "\n",
    "In order to initialize an instance of the *Sentinel1_Scene* class, all we need is a valid scene id of a Sentinel-1 product. "
   ]
  },
  {
   "cell_type": "code",
   "execution_count": 3,
   "metadata": {},
   "outputs": [
    {
     "name": "stdout",
     "output_type": "stream",
     "text": [
      " -------------------------------------------------\n",
      " Scene Information:\n",
      " Scene Identifier:        S1A_IW_GRDH_1SDV_20191116T170638_20191116T170703_029939_036AAB_070F\n",
      " Satellite:               Sentinel-1A\n",
      " Acquisition Mode:        Interferometric Wide Swath\n",
      " Processing Level:        1\n",
      " Product Type:            Ground Range Detected (GRD)\n",
      " Acquisition Date:        20191116\n",
      " Start Time:              170638\n",
      " Stop Time:               170703\n",
      " Absolute Orbit:          029939\n",
      " Relative Orbit:          117\n",
      " -------------------------------------------------\n"
     ]
    },
    {
     "data": {
      "text/plain": [
       "{'Scene_Identifier': 'S1A_IW_GRDH_1SDV_20191116T170638_20191116T170703_029939_036AAB_070F',\n",
       " 'Satellite': 'Sentinel-1A',\n",
       " 'Acquisition_Mode': 'Interferometric Wide Swath',\n",
       " 'Processing_Level': '1',\n",
       " 'Product_Type': 'Ground Range Detected (GRD)',\n",
       " 'Acquisition_Date': '20191116',\n",
       " 'Start_Time': '170638',\n",
       " 'Stop_Time': '170703',\n",
       " 'Absolute_Orbit': '029939',\n",
       " 'Relative_Orbit': '117'}"
      ]
     },
     "execution_count": 3,
     "metadata": {},
     "output_type": "execute_result"
    }
   ],
   "source": [
    "# create a S1Scene class instance based on the scene identifier of the first ever Dual-Pol Sentinel-1 IW product\n",
    "# cached scene\n",
    "scene_id = 'S1B_IW_GRDH_1SDV_20180813T054020_20180813T054045_012240_0168D6_B775'\n",
    "\n",
    "#scene_id = 'S1A_IW_GRDH_1SDV_20191116T170638_20191116T170703_029939_036AAB_070F' \n",
    "# actually only available from ASF's data archive\n",
    "scene_id = 'S1A_IW_GRDH_1SDV_20191116T170638_20191116T170703_029939_036AAB_070F'\n",
    "# create an S1Scene instance\n",
    "s1 = Sentinel1Scene(scene_id)\n",
    "\n",
    "# print summarising infos about the scene\n",
    "s1.info()"
   ]
  },
  {
   "cell_type": "markdown",
   "metadata": {},
   "source": [
    "### 4* a) - Get a scene from testdata cache (if you don't feel like downloading anything) \n",
    "\n",
    "Just a small subset of a GRD scene from the testdata. Ideal if you want to play around, the data is small. Ideal to check the different calirbation and DEM options at hand.\n",
    "\n",
    "**Note:** Basically just the OST test process rewritten here.\n",
    "\n",
    "\n",
    "\n",
    "\n"
   ]
  },
  {
   "cell_type": "code",
   "execution_count": 4,
   "metadata": {},
   "outputs": [
    {
     "name": "stdout",
     "output_type": "stream",
     "text": [
      "/home/suprd/OpenSarToolkit/Tutorial_1/SAR/GRD/2019/11/16/S1A_IW_GRDH_1SDV_20191116T170638_20191116T170703_029939_036AAB_070F.zip\n"
     ]
    }
   ],
   "source": [
    "# Function to confert .SAFE open folder (like a one from a DIAS) \n",
    "# to a regular .zip structure (SNAP is happier with the zips)\n",
    "from ost.helpers.helpers import zip_s1_safe_dir\n",
    "\n",
    "# This is a path to a local cache\n",
    "src = os.path.join(os.getcwd(), 'testdata', 'cache', s1.scene_id)\n",
    "\n",
    "\n",
    "# Copy and structurize s1 input data as it were on a bucket\n",
    "download_path = os.path.join(output_dir,\n",
    "                             'SAR',\n",
    "                             s1.product_type,\n",
    "                             s1.year,\n",
    "                             s1.month,\n",
    "                             s1.day\n",
    "                            )\n",
    "os.makedirs(download_path, exist_ok=True)\n",
    "zip_s1_safe_dir(src,\n",
    "                os.path.join(download_path, scene_id+'.zip.downloaded'),\n",
    "                s1.scene_id\n",
    "               )\n",
    "zip_s1_safe_dir(src,\n",
    "                os.path.join(download_path, scene_id+'.zip'),\n",
    "                scene_id\n",
    "                )\n",
    "\n",
    "# Get path to the product\n",
    "s1_processing_path = s1.get_path(output_dir)\n",
    "print(s1_processing_path)\n",
    "\n",
    "\n",
    "\n",
    "\n",
    "\n"
   ]
  },
  {
   "cell_type": "markdown",
   "metadata": {},
   "source": [
    "### 4* b) - Download the/a scene direcly\n",
    "\n",
    "The first step is to download the selected scene. In our case we chose the first regular Sentinel-1 IW product acquired in the dual-polarisation VV/VH acquired the 3rd of October 2014. \n",
    "OST provides download from 3 different mirrors, ESA's scihub, CNES PEPS and Alaska Satellite Facility (NASA Earthdata). Since ESA's official scihub became a rolling archive, and so is PEPS, best is to download from the fantastic **Alaska Satellite Facility** mirror (selection 2), which holds the full Sentinel-1 archive online. \n",
    "\n",
    "**Note:** At the end the downloaded file will be checked. This assures that the download went fine and we can use it for processing. In addiiton, OST will also magically remember that this file has been successfully downloaded."
   ]
  },
  {
   "cell_type": "code",
   "execution_count": 6,
   "metadata": {
    "scrolled": false
   },
   "outputs": [
    {
     "name": "stdout",
     "output_type": "stream",
     "text": [
      "Type 1, 2 or 3: 2\n",
      "Username:suprd\n",
      "Password:········\n",
      "1019795108\n"
     ]
    },
    {
     "name": "stderr",
     "output_type": "stream",
     "text": [
      "S1A_IW_GRDH_1SDV_20191116T170638_20191116T170703_029939_036AAB_070F.zip: 1.02GB [04:32, 3.74MB/s]                                \n"
     ]
    }
   ],
   "source": [
    "s1.download(output_dir)"
   ]
  },
  {
   "cell_type": "markdown",
   "metadata": {},
   "source": [
    "### 5* - Create an ARD product\n",
    "\n",
    "Analysis Ready Data is interpreted differently by different persons. \n",
    "\n",
    "The default ARD type is *'OST Standard'*. For GRD products you can select other pre-defined ARD types, or it allows customising single ARD parameters.\n",
    "\n",
    "See in the cell below the different definitions possible, and also note how the resolution and the resampling of the image during terrain correction is changed at the bottom. In this way, all parameters can be customised. "
   ]
  },
  {
   "cell_type": "code",
   "execution_count": 7,
   "metadata": {},
   "outputs": [
    {
     "name": "stdout",
     "output_type": "stream",
     "text": [
      " Our ARD parameters dictionary contains folowing keys.\n",
      "dict_keys(['type', 'resolution', 'border_noise', 'product_type', 'speckle_filter', 'ls_mask_create', 'to_db', 'dem', 'resampling'])\n",
      "\n",
      " Dictionary of our standard OST ARD parameters for the scene processing:\n",
      "{'type': 'OST', 'resolution': 20, 'border_noise': True, 'product_type': 'GTCgamma', 'speckle_filter': False, 'ls_mask_create': False, 'to_db': False, 'dem': 'SRTM 1Sec HGT', 'resampling': 'CUBIC_CONVOLUTION'}\n",
      "\n",
      " Dictionary of Earth Engine ARD parameters for the scene processing:\n",
      "{'type': 'OST', 'resolution': 20, 'border_noise': True, 'product_type': 'GTCgamma', 'speckle_filter': False, 'ls_mask_create': False, 'to_db': False, 'dem': 'SRTM 1Sec HGT', 'resampling': 'CUBIC_CONVOLUTION'}\n",
      "\n",
      "{'type': 'OST', 'resolution': 50, 'border_noise': True, 'product_type': 'GTCgamma', 'speckle_filter': False, 'ls_mask_create': False, 'to_db': False, 'dem': 'SRTM 1Sec HGT', 'resampling': 'BILINEAR_INTERPOLATION'}\n"
     ]
    }
   ],
   "source": [
    "print(' Our ARD parameters dictionary contains folowing keys.')\n",
    "print(s1.ard_parameters.keys())\n",
    "print('')\n",
    "print(' Dictionary of our standard OST ARD parameters for the scene processing:')\n",
    "print(s1.ard_parameters)\n",
    "print('')\n",
    "\n",
    "\n",
    "# we change ARD type\n",
    "# possible coices are:\n",
    "# 'OST Standard', 'OST Flattened', 'CEOS', 'Earth Engine'\n",
    "s1.set_ard_parameters('Earth Engine')\n",
    "print(' Dictionary of Earth Engine ARD parameters for the scene processing:')\n",
    "print(s1.ard_parameters)\n",
    "print('')\n",
    "\n",
    "# we cusomize the resolution and image resampling\n",
    "s1.ard_parameters['resolution'] = 50\n",
    "s1.ard_parameters['resampling'] = 'BILINEAR_INTERPOLATION'\n",
    "print(s1.ard_parameters)"
   ]
  },
  {
   "cell_type": "markdown",
   "metadata": {},
   "source": [
    "Our *Sentinel1_Scene* class comes with the build-in method *create_ard* to produce a standardised ARD product based on the ARD dictionary above. \n",
    "\n",
    "To run the command we just have to provide: \n",
    "- the path to the downloaded file. We can use the *get_path* method in conjunction with the download directory provided\n",
    "- a directory where the outputfiles will be written to\n",
    "- a filename prefix (the output format will be the standard SNAP Dimap format, consisting of the dim-file and the data directory)\n",
    "- and a directory for storing temporary files (can not be the same as the output folder)"
   ]
  },
  {
   "cell_type": "code",
   "execution_count": 6,
   "metadata": {},
   "outputs": [
    {
     "name": "stderr",
     "output_type": "stream",
     "text": [
      "2020-01-14 16:27:17,946 DEBUG ost.s1.grd_to_ard INFO: Importing S1B_IW_GRDH_1SDV_20180813T054020_20180813T054045_012240_0168D6_B775.zip by applying precise orbit file andremoving thermal noise\n"
     ]
    },
    {
     "name": "stdout",
     "output_type": "stream",
     "text": [
      "/home/suprd/OpenSarToolkit/Tutorial_1/SAR/GRD/2018/08/13/S1B_IW_GRDH_1SDV_20180813T054020_20180813T054045_012240_0168D6_B775.zip\n"
     ]
    },
    {
     "name": "stderr",
     "output_type": "stream",
     "text": [
      "2020-01-14 16:27:55,753 DEBUG ost.helpers.helpers INFO: Time elapsed: 0:00:37.803563\n",
      "2020-01-14 16:27:55,754 DEBUG ost.s1.grd_to_ard INFO: Succesfully imported product\n",
      "2020-01-14 16:27:55,756 DEBUG ost.s1.grd_to_ard INFO: Remove border noise for VV band.\n",
      "2020-01-14 16:28:03,787 DEBUG ost.helpers.helpers INFO: Time elapsed: 0:00:08.030077\n",
      "2020-01-14 16:28:03,788 DEBUG ost.s1.grd_to_ard INFO: Remove border noise for VH band.\n",
      "2020-01-14 16:28:11,229 DEBUG ost.helpers.helpers INFO: Time elapsed: 0:00:07.439554\n",
      "2020-01-14 16:28:11,234 DEBUG ost.s1.grd_to_ard INFO: Calibrating the product to a GTC product (Gamma0).\n",
      "2020-01-14 16:29:17,197 DEBUG ost.helpers.helpers INFO: Time elapsed: 0:01:05.962003\n",
      "2020-01-14 16:29:17,200 DEBUG ost.s1.grd_to_ard INFO: Succesfully calibrated product\n",
      "2020-01-14 16:29:17,389 DEBUG ost.s1.grd_to_ard INFO: Geocoding the calibrated product\n",
      "2020-01-14 16:30:37,159 DEBUG ost.helpers.helpers INFO: Time elapsed: 0:01:19.767920\n",
      "2020-01-14 16:30:37,165 DEBUG ost.s1.grd_to_ard INFO: Succesfully imported product\n"
     ]
    },
    {
     "name": "stdout",
     "output_type": "stream",
     "text": [
      " The path to our newly created ARD product can be obtained the following way:\n"
     ]
    },
    {
     "data": {
      "text/plain": [
       "'/home/suprd/OpenSarToolkit/Tutorial_1/S1B_IW_GRDH_1SDV_20180813T054020_20180813T054045_012240_0168D6_B775.GTCgamma.TC.dim'"
      ]
     },
     "execution_count": 6,
     "metadata": {},
     "output_type": "execute_result"
    }
   ],
   "source": [
    "from tempfile import TemporaryDirectory\n",
    "\n",
    "# Setup logging so we can see the progress\n",
    "import logging\n",
    "from ost.log import set_log_level\n",
    "set_log_level(logging.DEBUG)\n",
    "\n",
    "with TemporaryDirectory() as temp:\n",
    "    print(s1.get_path(output_dir))\n",
    "    s1.create_ard(infile = s1.get_path(output_dir),\n",
    "                  out_dir = output_dir,   \n",
    "                  out_prefix = s1.scene_id,   \n",
    "                  temp_dir = temp # needs to be different from our output dir\n",
    "                 ) \n",
    "\n",
    "print(' The path to our newly created ARD product can be obtained the following way:')\n",
    "s1.ard_dimap"
   ]
  },
  {
   "cell_type": "markdown",
   "metadata": {},
   "source": [
    "### 6* - Create a RGB color composite\n",
    "\n",
    "Sentinel-1 scenes usually consist of two polarisation bands. In order to create a 3 channel RGB composite a ratio between the Co- (VV or HH) and the Cross-polarised (VH or HV) band is added. The *create_rgb* method takes the *ard_dimap* file and converts it to a 3-channel GeoTiff."
   ]
  },
  {
   "cell_type": "code",
   "execution_count": 8,
   "metadata": {},
   "outputs": [
    {
     "ename": "TypeError",
     "evalue": "'NoneType' object is not subscriptable",
     "output_type": "error",
     "traceback": [
      "\u001b[0;31m---------------------------------------------------------------------------\u001b[0m",
      "\u001b[0;31mTypeError\u001b[0m                                 Traceback (most recent call last)",
      "\u001b[0;32m<ipython-input-8-4e5e4dac8554>\u001b[0m in \u001b[0;36m<module>\u001b[0;34m\u001b[0m\n\u001b[0;32m----> 1\u001b[0;31m \u001b[0ms1\u001b[0m\u001b[0;34m.\u001b[0m\u001b[0mcreate_rgb\u001b[0m\u001b[0;34m(\u001b[0m\u001b[0moutfile\u001b[0m \u001b[0;34m=\u001b[0m \u001b[0mjoin\u001b[0m\u001b[0;34m(\u001b[0m\u001b[0moutput_dir\u001b[0m\u001b[0;34m,\u001b[0m \u001b[0ms1\u001b[0m\u001b[0;34m.\u001b[0m\u001b[0mstart_date\u001b[0m\u001b[0;34m+\u001b[0m\u001b[0;34m'_'\u001b[0m\u001b[0;34m+\u001b[0m\u001b[0ms1\u001b[0m\u001b[0;34m.\u001b[0m\u001b[0mard_parameters\u001b[0m\u001b[0;34m[\u001b[0m\u001b[0;34m'product_type'\u001b[0m\u001b[0;34m]\u001b[0m\u001b[0;34m+\u001b[0m\u001b[0;34m'.tif'\u001b[0m\u001b[0;34m)\u001b[0m\u001b[0;34m)\u001b[0m\u001b[0;34m\u001b[0m\u001b[0;34m\u001b[0m\u001b[0m\n\u001b[0m\u001b[1;32m      2\u001b[0m \u001b[0;34m\u001b[0m\u001b[0m\n\u001b[1;32m      3\u001b[0m \u001b[0mprint\u001b[0m\u001b[0;34m(\u001b[0m\u001b[0;34m' The path to our newly created RGB product can be obtained the follwing way:'\u001b[0m\u001b[0;34m)\u001b[0m\u001b[0;34m\u001b[0m\u001b[0;34m\u001b[0m\u001b[0m\n\u001b[1;32m      4\u001b[0m \u001b[0ms1\u001b[0m\u001b[0;34m.\u001b[0m\u001b[0mard_rgb\u001b[0m\u001b[0;34m\u001b[0m\u001b[0;34m\u001b[0m\u001b[0m\n",
      "\u001b[0;32m~/PycharmProjects/_Sentinel-1_mosaic_test/git/OpenSarToolkit/ost/s1/s1scene.py\u001b[0m in \u001b[0;36mcreate_rgb\u001b[0;34m(self, outfile, process_bounds, driver)\u001b[0m\n\u001b[1;32m    825\u001b[0m         \u001b[0;32mif\u001b[0m \u001b[0mself\u001b[0m\u001b[0;34m.\u001b[0m\u001b[0mproduct_type\u001b[0m \u001b[0;34m==\u001b[0m \u001b[0;34m'GRD'\u001b[0m\u001b[0;34m:\u001b[0m\u001b[0;34m\u001b[0m\u001b[0;34m\u001b[0m\u001b[0m\n\u001b[1;32m    826\u001b[0m             \u001b[0mself\u001b[0m\u001b[0;34m.\u001b[0m\u001b[0mprocessing_poly\u001b[0m \u001b[0;34m=\u001b[0m \u001b[0;32mNone\u001b[0m\u001b[0;34m\u001b[0m\u001b[0;34m\u001b[0m\u001b[0m\n\u001b[0;32m--> 827\u001b[0;31m             \u001b[0mard_to_rgb\u001b[0m\u001b[0;34m(\u001b[0m\u001b[0mself\u001b[0m\u001b[0;34m.\u001b[0m\u001b[0mard_dimap\u001b[0m\u001b[0;34m,\u001b[0m \u001b[0moutfile\u001b[0m\u001b[0;34m,\u001b[0m \u001b[0mdriver\u001b[0m\u001b[0;34m,\u001b[0m \u001b[0mto_db\u001b[0m\u001b[0;34m)\u001b[0m\u001b[0;34m\u001b[0m\u001b[0;34m\u001b[0m\u001b[0m\n\u001b[0m\u001b[1;32m    828\u001b[0m         \u001b[0;32melif\u001b[0m \u001b[0mself\u001b[0m\u001b[0;34m.\u001b[0m\u001b[0mproduct_type\u001b[0m \u001b[0;34m==\u001b[0m \u001b[0;34m'SLC'\u001b[0m\u001b[0;34m:\u001b[0m\u001b[0;34m\u001b[0m\u001b[0;34m\u001b[0m\u001b[0m\n\u001b[1;32m    829\u001b[0m             \u001b[0;32mif\u001b[0m \u001b[0mprocess_bounds\u001b[0m \u001b[0;32mis\u001b[0m \u001b[0;32mNone\u001b[0m\u001b[0;34m:\u001b[0m\u001b[0;34m\u001b[0m\u001b[0;34m\u001b[0m\u001b[0m\n",
      "\u001b[0;32m~/PycharmProjects/_Sentinel-1_mosaic_test/git/OpenSarToolkit/ost/s1/convert_format.py\u001b[0m in \u001b[0;36mard_to_rgb\u001b[0;34m(infile, outfile, driver, to_db)\u001b[0m\n\u001b[1;32m    136\u001b[0m         \u001b[0mto_db\u001b[0m\u001b[0;34m=\u001b[0m\u001b[0;32mTrue\u001b[0m\u001b[0;34m\u001b[0m\u001b[0;34m\u001b[0m\u001b[0m\n\u001b[1;32m    137\u001b[0m ):\n\u001b[0;32m--> 138\u001b[0;31m     \u001b[0mprefix\u001b[0m \u001b[0;34m=\u001b[0m \u001b[0mglob\u001b[0m\u001b[0;34m.\u001b[0m\u001b[0mglob\u001b[0m\u001b[0;34m(\u001b[0m\u001b[0mos\u001b[0m\u001b[0;34m.\u001b[0m\u001b[0mpath\u001b[0m\u001b[0;34m.\u001b[0m\u001b[0mabspath\u001b[0m\u001b[0;34m(\u001b[0m\u001b[0minfile\u001b[0m\u001b[0;34m[\u001b[0m\u001b[0;34m:\u001b[0m\u001b[0;34m-\u001b[0m\u001b[0;36m4\u001b[0m\u001b[0;34m]\u001b[0m\u001b[0;34m)\u001b[0m \u001b[0;34m+\u001b[0m \u001b[0;34m'*data'\u001b[0m\u001b[0;34m)\u001b[0m\u001b[0;34m[\u001b[0m\u001b[0;36m0\u001b[0m\u001b[0;34m]\u001b[0m\u001b[0;34m\u001b[0m\u001b[0;34m\u001b[0m\u001b[0m\n\u001b[0m\u001b[1;32m    139\u001b[0m \u001b[0;34m\u001b[0m\u001b[0m\n\u001b[1;32m    140\u001b[0m     \u001b[0;32mif\u001b[0m \u001b[0mlen\u001b[0m\u001b[0;34m(\u001b[0m\u001b[0mglob\u001b[0m\u001b[0;34m.\u001b[0m\u001b[0mglob\u001b[0m\u001b[0;34m(\u001b[0m\u001b[0mopj\u001b[0m\u001b[0;34m(\u001b[0m\u001b[0mprefix\u001b[0m\u001b[0;34m,\u001b[0m \u001b[0;34m'*VV*.img'\u001b[0m\u001b[0;34m)\u001b[0m\u001b[0;34m)\u001b[0m\u001b[0;34m)\u001b[0m \u001b[0;34m==\u001b[0m \u001b[0;36m1\u001b[0m\u001b[0;34m:\u001b[0m\u001b[0;34m\u001b[0m\u001b[0;34m\u001b[0m\u001b[0m\n",
      "\u001b[0;31mTypeError\u001b[0m: 'NoneType' object is not subscriptable"
     ]
    }
   ],
   "source": [
    "s1.create_rgb(outfile = join(output_dir, s1.start_date+'_'+s1.ard_parameters['product_type']+'.tif'))\n",
    "\n",
    "print(' The path to our newly created RGB product can be obtained the follwing way:')\n",
    "s1.ard_rgb"
   ]
  },
  {
   "cell_type": "markdown",
   "metadata": {},
   "source": [
    "### 7* - Visualise the RGB composite\n",
    "\n",
    "We can plot the newly created RGB image with the *visualise_rgb* method. A *shrink_factor* is added, which reduces resolution in favour of memory requirements for plotting."
   ]
  },
  {
   "cell_type": "code",
   "execution_count": 12,
   "metadata": {},
   "outputs": [
    {
     "name": "stdout",
     "output_type": "stream",
     "text": [
      "Populating the interactive namespace from numpy and matplotlib\n"
     ]
    },
    {
     "data": {
      "image/png": "[encoded data removed]",
      "text/plain": [
       "<Figure size 1656x1656 with 1 Axes>"
      ]
     },
     "metadata": {
      "needs_background": "light"
     },
     "output_type": "display_data"
    }
   ],
   "source": [
    "#---------------------------------------------------\n",
    "# for plotting purposes we use this iPython magic\n",
    "%matplotlib inline\n",
    "%pylab inline\n",
    "pylab.rcParams['figure.figsize'] = (23, 23)\n",
    "#---------------------------------------------------\n",
    "s1.visualise_rgb(shrink_factor=15)"
   ]
  },
  {
   "cell_type": "markdown",
   "metadata": {},
   "source": [
    "### 8* - Create thumbnail image\n",
    "\n",
    "For some it might be interesting to create a small thumbnail image in Jpeg format. The *create_rgb_thumbnail* method allows for this. "
   ]
  },
  {
   "cell_type": "code",
   "execution_count": 13,
   "metadata": {},
   "outputs": [
    {
     "data": {
      "text/plain": [
       "'/home/suprd/OpenSarToolkit/Tutorial_1/20180813.TN.jpg'"
      ]
     },
     "execution_count": 13,
     "metadata": {},
     "output_type": "execute_result"
    }
   ],
   "source": [
    "# define a filename for our thumbnail image\n",
    "path_to_thumbnail = join(output_dir, '{}.TN.jpg'.format(s1.start_date))\n",
    "# create the thumbnail image\n",
    "s1.create_rgb_thumbnail(outfile = path_to_thumbnail)"
   ]
  },
  {
   "cell_type": "code",
   "execution_count": 14,
   "metadata": {},
   "outputs": [
    {
     "name": "stdout",
     "output_type": "stream",
     "text": [
      "4,0K /home/suprd/OpenSarToolkit/Tutorial_1/20180813.TN.jpg\r\n"
     ]
    },
    {
     "data": {
      "text/plain": [
       "<matplotlib.image.AxesImage at 0x7f7e3c8b2390>"
      ]
     },
     "execution_count": 14,
     "metadata": {},
     "output_type": "execute_result"
    },
    {
     "data": {
      "image/png": "[encoded data removed]",
      "text/plain": [
       "<Figure size 1656x1656 with 1 Axes>"
      ]
     },
     "metadata": {
      "needs_background": "light"
     },
     "output_type": "display_data"
    }
   ],
   "source": [
    "import imageio\n",
    "img = imageio.imread(path_to_thumbnail)\n",
    "!ls -sh {path_to_thumbnail}\n",
    "plt.imshow(img)"
   ]
  },
  {
   "cell_type": "code",
   "execution_count": null,
   "metadata": {},
   "outputs": [],
   "source": []
  }
 ],
 "metadata": {
  "kernelspec": {
   "display_name": "Python 3",
   "language": "python",
   "name": "python3"
  },
  "language_info": {
   "codemirror_mode": {
    "name": "ipython",
    "version": 3
   },
   "file_extension": ".py",
   "mimetype": "text/x-python",
   "name": "python",
   "nbconvert_exporter": "python",
   "pygments_lexer": "ipython3",
   "version": "3.6.7"
  }
 },
 "nbformat": 4,
 "nbformat_minor": 4
}
