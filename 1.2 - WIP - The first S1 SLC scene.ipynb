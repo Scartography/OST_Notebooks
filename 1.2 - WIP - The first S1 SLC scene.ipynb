{
 "cells": [
  {
   "cell_type": "markdown",
   "metadata": {},
   "source": [
    "![title](auxiliary/header_image.PNG)\n",
    "\n",
    "# OST OST Tutorial I Part 2\n",
    "## Pre-processing your first Sentinel-1 SLC imagery with OST\n",
    "\n",
    "\n",
    "--------\n",
    "This notebook is an analogy of the the GRD part to show how to create ARD data from Sentinel-1 Scenes.\n",
    "\n",
    "--------"
   ]
  },
  {
   "cell_type": "code",
   "execution_count": null,
   "metadata": {},
   "outputs": [],
   "source": [
    "\n",
    "\n",
    "some_bounds = [8.02001953125, 46.34033203125, 8.0419921875, 46.3623046875]\n",
    "some_bounds = [7.92515, 46.09752, 8.28152, 46.52307]\n",
    "\n",
    "from ost.log import set_log_level\n",
    "set_log_level(logging.DEBUG)\n",
    "\n",
    "get_l2a_from_slc_ost(\n",
    "    # product_path='/home/suprd/PycharmProjects/_Sentinel-1_mosaic_test/git/OpenSarToolkit/tests/testdata/cache/S1A_IW_SLC__1SDV_20190101T171515_20190101T171542_025287_02CC09_0A0B.zip',\n",
    "    product_path='/home/suprd/Downloads/S1A_IW_SLC__1SDV_20190101T171515_20190101T171542_025287_02CC09_0A0B.zip',\n",
    "    output_path='/home/suprd/OST_out_test/',\n",
    "    # l2a_type='GTCsigma',\n",
    "    l2a_type='RTC',\n",
    "    out_bounds=some_bounds,\n",
    "    resolution=20,\n",
    "    resampling=None,\n",
    "    dem='SRTM 1Sec HGT',\n",
    "    speckle_filter=True,\n",
    "    to_db=True,\n",
    "    with_thumbnail=True,\n",
    "    shrink_factor=4\n",
    ")\n",
    "1/0\n",
    "import rasterio\n",
    "test = '/home/suprd/OST_out_test/SAR/SLC/2019/01/01/S1A_IW_SLC__1SDV_20190101T171515_20190101T171542_025287_02CC09_0A0B.SAFE/measurement/s1a-iw1-slc-vh-20190101t171515-20190101t171541-025287-02cc09-001.tiff'\n",
    "\n",
    "product = '/home/suprd/OST_out_test/SAR/SLC/2019/01/01/S1A_IW_SLC__1SDV_20190101T171515_20190101T171542_025287_02CC09_0A0B.SAFE/'"
   ]
  }
 ],
 "metadata": {
  "kernelspec": {
   "display_name": "Python 3",
   "language": "python",
   "name": "python3"
  },
  "language_info": {
   "codemirror_mode": {
    "name": "ipython",
    "version": 3
   },
   "file_extension": ".py",
   "mimetype": "text/x-python",
   "name": "python",
   "nbconvert_exporter": "python",
   "pygments_lexer": "ipython3",
   "version": "3.6.7"
  }
 },
 "nbformat": 4,
 "nbformat_minor": 2
}
